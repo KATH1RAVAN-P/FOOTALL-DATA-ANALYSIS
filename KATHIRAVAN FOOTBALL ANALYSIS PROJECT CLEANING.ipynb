{
 "cells": [
  {
   "cell_type": "code",
   "execution_count": 360,
   "id": "d77a7597-0d0b-4e40-a36d-e56432f2a990",
   "metadata": {},
   "outputs": [],
   "source": [
    "# importing the libraries."
   ]
  },
  {
   "cell_type": "code",
   "execution_count": 203,
   "id": "51c7eb06-01ce-4743-96dd-e4402c24d5a9",
   "metadata": {},
   "outputs": [],
   "source": [
    "import pandas as pd\n",
    "import numpy as np\n",
    "\n",
    "from tabulate import tabulate\n",
    "\n",
    "import warnings\n",
    "warnings.filterwarnings(\"ignore\")"
   ]
  },
  {
   "cell_type": "code",
   "execution_count": 362,
   "id": "249afc82-f080-4853-98b4-ee00d3ca6ddc",
   "metadata": {},
   "outputs": [],
   "source": [
    "# Read the data."
   ]
  },
  {
   "cell_type": "code",
   "execution_count": 205,
   "id": "3127a2cb-1863-4f63-aa3d-0cf3fba6e797",
   "metadata": {},
   "outputs": [],
   "source": [
    "appearances = pd.read_excel(\"appearances.xlsx\")"
   ]
  },
  {
   "cell_type": "code",
   "execution_count": 207,
   "id": "bc891515-833a-4282-9805-899d1ab6f78e",
   "metadata": {},
   "outputs": [
    {
     "data": {
      "text/plain": [
       "Index(['appearance_id', 'game_id', 'player_id', 'date', 'player_name',\n",
       "       'competition_id', 'yellow_cards', 'red_cards', 'goals', 'assists',\n",
       "       'minutes_played'],\n",
       "      dtype='object')"
      ]
     },
     "execution_count": 207,
     "metadata": {},
     "output_type": "execute_result"
    }
   ],
   "source": [
    "appearances.columns"
   ]
  },
  {
   "cell_type": "code",
   "execution_count": 209,
   "id": "e084fd4c-4d4a-4c28-88b3-94ca38e371ea",
   "metadata": {},
   "outputs": [],
   "source": [
    "players = pd.read_excel(\"players.xlsx\")"
   ]
  },
  {
   "cell_type": "code",
   "execution_count": 211,
   "id": "15e46407-7703-4be6-a7b5-bf6ccbc64086",
   "metadata": {},
   "outputs": [
    {
     "data": {
      "text/plain": [
       "Index(['player_id', 'name', 'last_season', 'current_club_id', 'player_code',\n",
       "       'country_of_birth', 'date_of_birth', 'sub_position', 'position', 'foot',\n",
       "       'height_in_cm', 'market_value_in_eur', 'highest_market_value_in_eur',\n",
       "       'contract_expiration_date', 'agent_name'],\n",
       "      dtype='object')"
      ]
     },
     "execution_count": 211,
     "metadata": {},
     "output_type": "execute_result"
    }
   ],
   "source": [
    "players.columns"
   ]
  },
  {
   "cell_type": "code",
   "execution_count": 213,
   "id": "2dcf3be9-b9c6-4374-afd5-026df0a20c7d",
   "metadata": {},
   "outputs": [],
   "source": [
    "games = pd.read_excel(\"games.xlsx\")"
   ]
  },
  {
   "cell_type": "code",
   "execution_count": 215,
   "id": "189af4de-febc-47ce-bdbd-771a261625bc",
   "metadata": {},
   "outputs": [
    {
     "data": {
      "text/plain": [
       "Index(['game_id', 'competition_id', 'season', 'round', 'date',\n",
       "       'home_club_goals', 'away_club_goals', 'home_club_position',\n",
       "       'away_club_position', 'home_club_manager_name',\n",
       "       'away_club_manager_name', 'stadium', 'attendance', 'referee',\n",
       "       'home_club_formation', 'away_club_formation', 'home_club_name',\n",
       "       'away_club_name', 'aggregate', 'competition_type'],\n",
       "      dtype='object')"
      ]
     },
     "execution_count": 215,
     "metadata": {},
     "output_type": "execute_result"
    }
   ],
   "source": [
    "games.columns"
   ]
  },
  {
   "cell_type": "code",
   "execution_count": 217,
   "id": "ecd4aaba-f734-44ab-86a0-f1b682bceac6",
   "metadata": {},
   "outputs": [],
   "source": [
    "game_lineups = pd.read_excel(\"game_lineups.xlsx\")"
   ]
  },
  {
   "cell_type": "code",
   "execution_count": 219,
   "id": "01c0c4f3-40a3-4ffb-8785-fee8b3bbf857",
   "metadata": {},
   "outputs": [
    {
     "data": {
      "text/plain": [
       "Index(['game_lineups_id', 'game_id', 'type', 'number', 'player_id',\n",
       "       'player_name', 'team_captain', 'position'],\n",
       "      dtype='object')"
      ]
     },
     "execution_count": 219,
     "metadata": {},
     "output_type": "execute_result"
    }
   ],
   "source": [
    "game_lineups.columns"
   ]
  },
  {
   "cell_type": "code",
   "execution_count": 221,
   "id": "a34604b0-0f12-4738-91bc-4335a409ea83",
   "metadata": {},
   "outputs": [],
   "source": [
    "game_events = pd.read_excel(\"game_events.xlsx\")"
   ]
  },
  {
   "cell_type": "code",
   "execution_count": 223,
   "id": "b1cad6d2-92f0-456d-9b29-8ff0ed585048",
   "metadata": {},
   "outputs": [
    {
     "data": {
      "text/plain": [
       "Index(['game_event_id', 'date', 'game_id', 'minute', 'type', 'player_id',\n",
       "       'description', 'player_in_id', 'player_assist_id'],\n",
       "      dtype='object')"
      ]
     },
     "execution_count": 223,
     "metadata": {},
     "output_type": "execute_result"
    }
   ],
   "source": [
    "game_events.columns"
   ]
  },
  {
   "cell_type": "code",
   "execution_count": null,
   "id": "3731963a-ad67-43c8-acc8-56748679e622",
   "metadata": {},
   "outputs": [],
   "source": []
  },
  {
   "cell_type": "raw",
   "id": "3595d3bb-0cd5-47f5-8b63-d9b95d188c5e",
   "metadata": {},
   "source": [
    "appearances, games, game_events, players, game_lineups"
   ]
  },
  {
   "cell_type": "code",
   "execution_count": 225,
   "id": "678d41a2-61a1-4c50-8c71-5b6df74dbb7a",
   "metadata": {},
   "outputs": [],
   "source": [
    "df_1 = pd.merge(appearances, games, on = \"game_id\")"
   ]
  },
  {
   "cell_type": "code",
   "execution_count": 227,
   "id": "f74a5d55-dda0-422a-a7bb-b6e52f6f7386",
   "metadata": {},
   "outputs": [
    {
     "name": "stdout",
     "output_type": "stream",
     "text": [
      "Index(['appearance_id', 'game_id', 'player_id', 'date_x', 'player_name',\n",
      "       'competition_id_x', 'yellow_cards', 'red_cards', 'goals', 'assists',\n",
      "       'minutes_played', 'competition_id_y', 'season', 'round', 'date_y',\n",
      "       'home_club_goals', 'away_club_goals', 'home_club_position',\n",
      "       'away_club_position', 'home_club_manager_name',\n",
      "       'away_club_manager_name', 'stadium', 'attendance', 'referee',\n",
      "       'home_club_formation', 'away_club_formation', 'home_club_name',\n",
      "       'away_club_name', 'aggregate', 'competition_type'],\n",
      "      dtype='object')\n",
      "(3568, 30)\n"
     ]
    }
   ],
   "source": [
    "print(df_1.columns)\n",
    "print(df_1.shape)"
   ]
  },
  {
   "cell_type": "code",
   "execution_count": 229,
   "id": "859f7f43-17e6-4e93-8bce-d670770dc192",
   "metadata": {},
   "outputs": [],
   "source": [
    "df_2 = pd.merge(df_1, game_events, on = \"game_id\")"
   ]
  },
  {
   "cell_type": "code",
   "execution_count": 231,
   "id": "f2978b39-45f1-4f63-80e1-d4d5e3c811fa",
   "metadata": {},
   "outputs": [
    {
     "name": "stdout",
     "output_type": "stream",
     "text": [
      "Index(['appearance_id', 'game_id', 'player_id_x', 'date_x', 'player_name',\n",
      "       'competition_id_x', 'yellow_cards', 'red_cards', 'goals', 'assists',\n",
      "       'minutes_played', 'competition_id_y', 'season', 'round', 'date_y',\n",
      "       'home_club_goals', 'away_club_goals', 'home_club_position',\n",
      "       'away_club_position', 'home_club_manager_name',\n",
      "       'away_club_manager_name', 'stadium', 'attendance', 'referee',\n",
      "       'home_club_formation', 'away_club_formation', 'home_club_name',\n",
      "       'away_club_name', 'aggregate', 'competition_type', 'game_event_id',\n",
      "       'date', 'minute', 'type', 'player_id_y', 'description', 'player_in_id',\n",
      "       'player_assist_id'],\n",
      "      dtype='object')\n",
      "(1339, 38)\n"
     ]
    }
   ],
   "source": [
    "print(df_2.columns)\n",
    "print(df_2.shape)"
   ]
  },
  {
   "cell_type": "code",
   "execution_count": 233,
   "id": "5a043ddd-b038-4fee-950d-89dc46283b5f",
   "metadata": {},
   "outputs": [],
   "source": [
    "df_2 = df_2.rename(columns = {\"player_id_x\" : \"player_id\"})"
   ]
  },
  {
   "cell_type": "code",
   "execution_count": 235,
   "id": "4cb00574-a0c0-4ef2-8628-f1199fc2e532",
   "metadata": {},
   "outputs": [],
   "source": [
    "df_2 = df_2.drop([\"player_id_y\"], axis = 1)"
   ]
  },
  {
   "cell_type": "code",
   "execution_count": 237,
   "id": "7395f965-d785-46c7-bdc4-be8f5cb4cbd4",
   "metadata": {},
   "outputs": [],
   "source": [
    "df_3 = pd.merge(df_2, players, on = \"player_id\")"
   ]
  },
  {
   "cell_type": "code",
   "execution_count": 239,
   "id": "1dc0d8e8-e789-43c2-ae11-2468669a907f",
   "metadata": {},
   "outputs": [
    {
     "name": "stdout",
     "output_type": "stream",
     "text": [
      "Index(['appearance_id', 'game_id', 'player_id', 'date_x', 'player_name',\n",
      "       'competition_id_x', 'yellow_cards', 'red_cards', 'goals', 'assists',\n",
      "       'minutes_played', 'competition_id_y', 'season', 'round', 'date_y',\n",
      "       'home_club_goals', 'away_club_goals', 'home_club_position',\n",
      "       'away_club_position', 'home_club_manager_name',\n",
      "       'away_club_manager_name', 'stadium', 'attendance', 'referee',\n",
      "       'home_club_formation', 'away_club_formation', 'home_club_name',\n",
      "       'away_club_name', 'aggregate', 'competition_type', 'game_event_id',\n",
      "       'date', 'minute', 'type', 'description', 'player_in_id',\n",
      "       'player_assist_id', 'name', 'last_season', 'current_club_id',\n",
      "       'player_code', 'country_of_birth', 'date_of_birth', 'sub_position',\n",
      "       'position', 'foot', 'height_in_cm', 'market_value_in_eur',\n",
      "       'highest_market_value_in_eur', 'contract_expiration_date',\n",
      "       'agent_name'],\n",
      "      dtype='object')\n",
      "(1339, 51)\n"
     ]
    }
   ],
   "source": [
    "print(df_3.columns)\n",
    "print(df_3.shape)"
   ]
  },
  {
   "cell_type": "code",
   "execution_count": 241,
   "id": "06820688-f316-4635-9c74-5e2c19e07918",
   "metadata": {},
   "outputs": [],
   "source": [
    "df_4 = pd.merge(df_3, game_lineups, on = \"player_id\")"
   ]
  },
  {
   "cell_type": "code",
   "execution_count": 243,
   "id": "4bececa3-6790-415e-8a20-ed21df762637",
   "metadata": {},
   "outputs": [
    {
     "data": {
      "text/plain": [
       "Index(['appearance_id', 'game_id_x', 'player_id', 'date_x', 'player_name_x',\n",
       "       'competition_id_x', 'yellow_cards', 'red_cards', 'goals', 'assists',\n",
       "       'minutes_played', 'competition_id_y', 'season', 'round', 'date_y',\n",
       "       'home_club_goals', 'away_club_goals', 'home_club_position',\n",
       "       'away_club_position', 'home_club_manager_name',\n",
       "       'away_club_manager_name', 'stadium', 'attendance', 'referee',\n",
       "       'home_club_formation', 'away_club_formation', 'home_club_name',\n",
       "       'away_club_name', 'aggregate', 'competition_type', 'game_event_id',\n",
       "       'date', 'minute', 'type_x', 'description', 'player_in_id',\n",
       "       'player_assist_id', 'name', 'last_season', 'current_club_id',\n",
       "       'player_code', 'country_of_birth', 'date_of_birth', 'sub_position',\n",
       "       'position_x', 'foot', 'height_in_cm', 'market_value_in_eur',\n",
       "       'highest_market_value_in_eur', 'contract_expiration_date', 'agent_name',\n",
       "       'game_lineups_id', 'game_id_y', 'type_y', 'number', 'player_name_y',\n",
       "       'team_captain', 'position_y'],\n",
       "      dtype='object')"
      ]
     },
     "execution_count": 243,
     "metadata": {},
     "output_type": "execute_result"
    }
   ],
   "source": [
    "df_4.columns"
   ]
  },
  {
   "cell_type": "code",
   "execution_count": 245,
   "id": "a20f4fb7-087e-402e-9d06-e0d722410395",
   "metadata": {},
   "outputs": [],
   "source": [
    "football_df = df_4.copy()"
   ]
  },
  {
   "cell_type": "code",
   "execution_count": null,
   "id": "50fa4789-acc6-4fe5-b97c-18bf59f21f20",
   "metadata": {},
   "outputs": [],
   "source": []
  },
  {
   "cell_type": "code",
   "execution_count": 247,
   "id": "e4da5478-add7-4ff3-b5e4-007499d8125b",
   "metadata": {},
   "outputs": [],
   "source": [
    "# shape of the dataframe"
   ]
  },
  {
   "cell_type": "code",
   "execution_count": 249,
   "id": "1d7d4bc5-b4ee-4696-b115-bda910aceb1e",
   "metadata": {},
   "outputs": [
    {
     "name": "stdout",
     "output_type": "stream",
     "text": [
      "The number of rows is  4199\n",
      "The number of columns is  58\n"
     ]
    }
   ],
   "source": [
    "print(\"The number of rows is \", football_df.shape[0])\n",
    "print(\"The number of columns is \", football_df.shape[1])"
   ]
  },
  {
   "cell_type": "code",
   "execution_count": 251,
   "id": "e9425cbb-7da5-4959-be19-a05ab58b4200",
   "metadata": {},
   "outputs": [],
   "source": [
    "# information of the dataframe"
   ]
  },
  {
   "cell_type": "code",
   "execution_count": 253,
   "id": "dacd96ce-211a-4ab4-afd7-41595601b033",
   "metadata": {},
   "outputs": [
    {
     "name": "stdout",
     "output_type": "stream",
     "text": [
      "<class 'pandas.core.frame.DataFrame'>\n",
      "RangeIndex: 4199 entries, 0 to 4198\n",
      "Data columns (total 58 columns):\n",
      " #   Column                       Non-Null Count  Dtype         \n",
      "---  ------                       --------------  -----         \n",
      " 0   appearance_id                4199 non-null   object        \n",
      " 1   game_id_x                    4199 non-null   int64         \n",
      " 2   player_id                    4199 non-null   int64         \n",
      " 3   date_x                       4199 non-null   datetime64[ns]\n",
      " 4   player_name_x                4199 non-null   object        \n",
      " 5   competition_id_x             4199 non-null   object        \n",
      " 6   yellow_cards                 4199 non-null   int64         \n",
      " 7   red_cards                    4199 non-null   int64         \n",
      " 8   goals                        4199 non-null   int64         \n",
      " 9   assists                      4199 non-null   int64         \n",
      " 10  minutes_played               4199 non-null   int64         \n",
      " 11  competition_id_y             4199 non-null   object        \n",
      " 12  season                       4199 non-null   int64         \n",
      " 13  round                        4199 non-null   object        \n",
      " 14  date_y                       4199 non-null   datetime64[ns]\n",
      " 15  home_club_goals              4199 non-null   int64         \n",
      " 16  away_club_goals              4199 non-null   int64         \n",
      " 17  home_club_position           3481 non-null   float64       \n",
      " 18  away_club_position           3481 non-null   float64       \n",
      " 19  home_club_manager_name       4199 non-null   object        \n",
      " 20  away_club_manager_name       4199 non-null   object        \n",
      " 21  stadium                      4199 non-null   object        \n",
      " 22  attendance                   3803 non-null   float64       \n",
      " 23  referee                      4167 non-null   object        \n",
      " 24  home_club_formation          0 non-null      float64       \n",
      " 25  away_club_formation          0 non-null      float64       \n",
      " 26  home_club_name               3990 non-null   object        \n",
      " 27  away_club_name               4177 non-null   object        \n",
      " 28  aggregate                    4199 non-null   object        \n",
      " 29  competition_type             4199 non-null   object        \n",
      " 30  game_event_id                4199 non-null   object        \n",
      " 31  date                         4199 non-null   datetime64[ns]\n",
      " 32  minute                       4199 non-null   int64         \n",
      " 33  type_x                       4199 non-null   object        \n",
      " 34  description                  1541 non-null   object        \n",
      " 35  player_in_id                 2753 non-null   float64       \n",
      " 36  player_assist_id             32 non-null     float64       \n",
      " 37  name                         4199 non-null   object        \n",
      " 38  last_season                  4199 non-null   int64         \n",
      " 39  current_club_id              4199 non-null   int64         \n",
      " 40  player_code                  4199 non-null   object        \n",
      " 41  country_of_birth             4199 non-null   object        \n",
      " 42  date_of_birth                4199 non-null   datetime64[ns]\n",
      " 43  sub_position                 4199 non-null   object        \n",
      " 44  position_x                   4199 non-null   object        \n",
      " 45  foot                         4199 non-null   object        \n",
      " 46  height_in_cm                 4199 non-null   float64       \n",
      " 47  market_value_in_eur          4195 non-null   float64       \n",
      " 48  highest_market_value_in_eur  4199 non-null   float64       \n",
      " 49  contract_expiration_date     4187 non-null   datetime64[ns]\n",
      " 50  agent_name                   2183 non-null   object        \n",
      " 51  game_lineups_id              4199 non-null   object        \n",
      " 52  game_id_y                    4199 non-null   int64         \n",
      " 53  type_y                       4199 non-null   object        \n",
      " 54  number                       4199 non-null   int64         \n",
      " 55  player_name_y                4199 non-null   object        \n",
      " 56  team_captain                 4199 non-null   int64         \n",
      " 57  position_y                   4199 non-null   object        \n",
      "dtypes: datetime64[ns](5), float64(10), int64(16), object(27)\n",
      "memory usage: 1.9+ MB\n"
     ]
    }
   ],
   "source": [
    "football_df.info()"
   ]
  },
  {
   "cell_type": "code",
   "execution_count": null,
   "id": "97e8990d-9396-4311-8f01-e1261850e70c",
   "metadata": {},
   "outputs": [],
   "source": []
  },
  {
   "cell_type": "code",
   "execution_count": 255,
   "id": "243612e9-9787-4db5-9974-0859d163a05a",
   "metadata": {},
   "outputs": [],
   "source": [
    "# Seperating the columns with data types"
   ]
  },
  {
   "cell_type": "code",
   "execution_count": 257,
   "id": "3b08bf77-fc2f-48ef-9171-3d7c79e97aea",
   "metadata": {},
   "outputs": [],
   "source": [
    "categorical_column = football_df.select_dtypes(include = [\"object\", \"category\"])"
   ]
  },
  {
   "cell_type": "code",
   "execution_count": 259,
   "id": "d5832d1d-380d-4fc6-a6d9-50e1ff33da3c",
   "metadata": {},
   "outputs": [],
   "source": [
    "numerical_column = football_df.select_dtypes(exclude = [\"object\", \"category\", \"datetime\"])"
   ]
  },
  {
   "cell_type": "code",
   "execution_count": 261,
   "id": "417e26bb-64c1-41e9-a46a-14b9036a3af9",
   "metadata": {},
   "outputs": [],
   "source": [
    "datetime_column = football_df.select_dtypes(include = [\"datetime\"])"
   ]
  },
  {
   "cell_type": "code",
   "execution_count": 263,
   "id": "9e0588d6-41d4-4b3c-b5f0-92ee4de98f78",
   "metadata": {},
   "outputs": [],
   "source": [
    "table = tabulate({\"categorical_column\" : categorical_column, \"numerical_column\": numerical_column, \"datetime_column\": datetime_column},\n",
    "                  headers = [\"categorical_column\", \"numerical_column\", \"datetime_column\"])"
   ]
  },
  {
   "cell_type": "code",
   "execution_count": 265,
   "id": "5e78cd62-b923-403c-a5f0-6327b9cc6288",
   "metadata": {},
   "outputs": [
    {
     "name": "stdout",
     "output_type": "stream",
     "text": [
      "categorical_column      numerical_column             datetime_column\n",
      "----------------------  ---------------------------  ------------------------\n",
      "appearance_id           game_id_x                    date_x\n",
      "player_name_x           player_id                    date_y\n",
      "competition_id_x        yellow_cards                 date\n",
      "competition_id_y        red_cards                    date_of_birth\n",
      "round                   goals                        contract_expiration_date\n",
      "home_club_manager_name  assists\n",
      "away_club_manager_name  minutes_played\n",
      "stadium                 season\n",
      "referee                 home_club_goals\n",
      "home_club_name          away_club_goals\n",
      "away_club_name          home_club_position\n",
      "aggregate               away_club_position\n",
      "competition_type        attendance\n",
      "game_event_id           home_club_formation\n",
      "type_x                  away_club_formation\n",
      "description             minute\n",
      "name                    player_in_id\n",
      "player_code             player_assist_id\n",
      "country_of_birth        last_season\n",
      "sub_position            current_club_id\n",
      "position_x              height_in_cm\n",
      "foot                    market_value_in_eur\n",
      "agent_name              highest_market_value_in_eur\n",
      "game_lineups_id         game_id_y\n",
      "type_y                  number\n",
      "player_name_y           team_captain\n",
      "position_y\n"
     ]
    }
   ],
   "source": [
    "print(table)"
   ]
  },
  {
   "cell_type": "code",
   "execution_count": null,
   "id": "7ffe6cf4-377e-4d4a-b606-ed71c6889b28",
   "metadata": {},
   "outputs": [],
   "source": []
  },
  {
   "cell_type": "code",
   "execution_count": 267,
   "id": "bf2c0055-5034-473b-aea8-984058bbd1b5",
   "metadata": {},
   "outputs": [],
   "source": [
    "# Removing the redundant columns"
   ]
  },
  {
   "cell_type": "code",
   "execution_count": 269,
   "id": "131f2c19-70bc-4ba2-9de0-a6bc5ea090e7",
   "metadata": {},
   "outputs": [],
   "source": [
    "redundant_columns_1 = [\"position_y\", \"player_name_y\", \"type_y\", \"game_id_y\", \"date_y\", \"competition_id_y\"]"
   ]
  },
  {
   "cell_type": "code",
   "execution_count": 271,
   "id": "0df9b2fe-831a-4a01-bbdb-7262bcc98d3e",
   "metadata": {},
   "outputs": [],
   "source": [
    "redundant_columns_2 = [\"position_x\", \"player_name_x\", \"type_x\", \"game_id_x\", \"date_x\", \"competition_id_x\"]"
   ]
  },
  {
   "cell_type": "code",
   "execution_count": 273,
   "id": "24d3b87b-9b1c-4d56-8b64-dcecae5d3e81",
   "metadata": {},
   "outputs": [
    {
     "name": "stdout",
     "output_type": "stream",
     "text": [
      "position_y    4199\n",
      "position_x    4199\n",
      "dtype: int64\n",
      "player_name_y    0\n",
      "player_name_x    0\n",
      "dtype: int64\n",
      "type_y    4199\n",
      "type_x    4199\n",
      "dtype: int64\n",
      "game_id_y    4199\n",
      "game_id_x    4199\n",
      "dtype: int64\n",
      "date_y    0\n",
      "date_x    0\n",
      "dtype: int64\n",
      "competition_id_y    0\n",
      "competition_id_x    0\n",
      "dtype: int64\n"
     ]
    }
   ],
   "source": [
    "for i in range(len(redundant_columns_1)):\n",
    "    print(football_df.loc[football_df[redundant_columns_1[i]] != football_df[redundant_columns_2[i]], [redundant_columns_1[i], redundant_columns_2[i]]].count())"
   ]
  },
  {
   "cell_type": "code",
   "execution_count": 275,
   "id": "80cca732-96b4-4d82-863d-3f1852e20e21",
   "metadata": {},
   "outputs": [],
   "source": [
    "# position, type has different value in the column.\n",
    "# We have different value so we cannnot drop the column."
   ]
  },
  {
   "cell_type": "code",
   "execution_count": 277,
   "id": "335d5f32-4e26-42c9-89c5-a831e96371f1",
   "metadata": {},
   "outputs": [],
   "source": [
    "# We require only game_id_x so we drop game_id_y\n",
    "# player_name\n",
    "# date\n",
    "# competition id\n",
    "# We cannot able to see any different in both column. \n",
    "# Both column has the same value.\n",
    "# So we drop one column from that.\n",
    "# It is condidered as the redundant column so we drop the columns."
   ]
  },
  {
   "cell_type": "code",
   "execution_count": 279,
   "id": "840bc85c-8c90-4f56-be36-d4ec550eef2f",
   "metadata": {},
   "outputs": [],
   "source": [
    "football_df = football_df.drop([\"player_name_y\", \"date_y\", \"competition_id_y\", \"game_id_y\"], axis = 1)"
   ]
  },
  {
   "cell_type": "code",
   "execution_count": 281,
   "id": "cdd811d3-d7c4-4726-b286-dc0c122de47d",
   "metadata": {},
   "outputs": [],
   "source": [
    "football_df = football_df.drop(football_df.iloc[:,3].name, axis = 1) # extra date column"
   ]
  },
  {
   "cell_type": "code",
   "execution_count": 283,
   "id": "62f1fb3f-14a5-44ff-a49d-8ca25bf94fd5",
   "metadata": {},
   "outputs": [],
   "source": [
    "# Removed the redundant columns."
   ]
  },
  {
   "cell_type": "code",
   "execution_count": 285,
   "id": "e9cbe47d-e6ed-4c43-ba35-1d37a787f34f",
   "metadata": {},
   "outputs": [],
   "source": [
    "# Renamed the column into proper name."
   ]
  },
  {
   "cell_type": "code",
   "execution_count": 287,
   "id": "ce7c2315-b631-41bc-9023-51f0d6b763d1",
   "metadata": {},
   "outputs": [],
   "source": [
    "football_df = football_df.rename(columns = {\"player_name_x\" : \"player_name\", \"competition_id_x\" : \"competition_id\", \"game_id_x\" : \"game_id\"})"
   ]
  },
  {
   "cell_type": "code",
   "execution_count": null,
   "id": "2790f522-a804-4d84-ae22-64c71877e356",
   "metadata": {},
   "outputs": [],
   "source": []
  },
  {
   "cell_type": "code",
   "execution_count": 289,
   "id": "e4c1eeae-0c08-49f7-8aa8-bd191069b94c",
   "metadata": {
    "scrolled": true
   },
   "outputs": [
    {
     "data": {
      "text/plain": [
       "Index(['appearance_id', 'game_id', 'player_id', 'player_name',\n",
       "       'competition_id', 'yellow_cards', 'red_cards', 'goals', 'assists',\n",
       "       'minutes_played', 'season', 'round', 'home_club_goals',\n",
       "       'away_club_goals', 'home_club_position', 'away_club_position',\n",
       "       'home_club_manager_name', 'away_club_manager_name', 'stadium',\n",
       "       'attendance', 'referee', 'home_club_formation', 'away_club_formation',\n",
       "       'home_club_name', 'away_club_name', 'aggregate', 'competition_type',\n",
       "       'game_event_id', 'date', 'minute', 'type_x', 'description',\n",
       "       'player_in_id', 'player_assist_id', 'name', 'last_season',\n",
       "       'current_club_id', 'player_code', 'country_of_birth', 'date_of_birth',\n",
       "       'sub_position', 'position_x', 'foot', 'height_in_cm',\n",
       "       'market_value_in_eur', 'highest_market_value_in_eur',\n",
       "       'contract_expiration_date', 'agent_name', 'game_lineups_id', 'type_y',\n",
       "       'number', 'team_captain', 'position_y'],\n",
       "      dtype='object')"
      ]
     },
     "execution_count": 289,
     "metadata": {},
     "output_type": "execute_result"
    }
   ],
   "source": [
    "football_df.columns"
   ]
  },
  {
   "cell_type": "code",
   "execution_count": null,
   "id": "516e5591-c4a0-43d8-aeaa-d78bb0e9ec31",
   "metadata": {},
   "outputs": [],
   "source": []
  },
  {
   "cell_type": "code",
   "execution_count": 291,
   "id": "55e9808f-de71-4f92-b671-cca60069c6e3",
   "metadata": {},
   "outputs": [],
   "source": [
    "# check duplicates "
   ]
  },
  {
   "cell_type": "code",
   "execution_count": 293,
   "id": "3553d791-2421-413b-abd4-af8d4f5e488d",
   "metadata": {},
   "outputs": [
    {
     "data": {
      "text/plain": [
       "0"
      ]
     },
     "execution_count": 293,
     "metadata": {},
     "output_type": "execute_result"
    }
   ],
   "source": [
    "football_df.duplicated().sum()"
   ]
  },
  {
   "cell_type": "code",
   "execution_count": 295,
   "id": "c6531156-2a88-4d4e-8e64-b1ba3af6e6e7",
   "metadata": {},
   "outputs": [],
   "source": [
    "# No duplicate values present."
   ]
  },
  {
   "cell_type": "code",
   "execution_count": 297,
   "id": "ad6f1ea7-885c-4a68-9325-118547367805",
   "metadata": {},
   "outputs": [],
   "source": [
    "# checking null values"
   ]
  },
  {
   "cell_type": "code",
   "execution_count": 299,
   "id": "c72dae00-43dd-4c05-92d7-7346da61751b",
   "metadata": {},
   "outputs": [
    {
     "data": {
      "text/plain": [
       "appearance_id                     0\n",
       "game_id                           0\n",
       "player_id                         0\n",
       "player_name                       0\n",
       "competition_id                    0\n",
       "yellow_cards                      0\n",
       "red_cards                         0\n",
       "goals                             0\n",
       "assists                           0\n",
       "minutes_played                    0\n",
       "season                            0\n",
       "round                             0\n",
       "home_club_goals                   0\n",
       "away_club_goals                   0\n",
       "home_club_position              718\n",
       "away_club_position              718\n",
       "home_club_manager_name            0\n",
       "away_club_manager_name            0\n",
       "stadium                           0\n",
       "attendance                      396\n",
       "referee                          32\n",
       "home_club_formation            4199\n",
       "away_club_formation            4199\n",
       "home_club_name                  209\n",
       "away_club_name                   22\n",
       "aggregate                         0\n",
       "competition_type                  0\n",
       "game_event_id                     0\n",
       "date                              0\n",
       "minute                            0\n",
       "type_x                            0\n",
       "description                    2658\n",
       "player_in_id                   1446\n",
       "player_assist_id               4167\n",
       "name                              0\n",
       "last_season                       0\n",
       "current_club_id                   0\n",
       "player_code                       0\n",
       "country_of_birth                  0\n",
       "date_of_birth                     0\n",
       "sub_position                      0\n",
       "position_x                        0\n",
       "foot                              0\n",
       "height_in_cm                      0\n",
       "market_value_in_eur               4\n",
       "highest_market_value_in_eur       0\n",
       "contract_expiration_date         12\n",
       "agent_name                     2016\n",
       "game_lineups_id                   0\n",
       "type_y                            0\n",
       "number                            0\n",
       "team_captain                      0\n",
       "position_y                        0\n",
       "dtype: int64"
      ]
     },
     "execution_count": 299,
     "metadata": {},
     "output_type": "execute_result"
    }
   ],
   "source": [
    "football_df.isnull().sum()"
   ]
  },
  {
   "cell_type": "code",
   "execution_count": 301,
   "id": "4427056a-04fe-4921-a569-739d362d296a",
   "metadata": {},
   "outputs": [],
   "source": [
    "# drop the columns which has high null values. "
   ]
  },
  {
   "cell_type": "code",
   "execution_count": 303,
   "id": "b22088fd-1318-4cf6-8438-da8f13972a49",
   "metadata": {},
   "outputs": [],
   "source": [
    "columns_with_high_null = [\"description\", \"player_assist_id\", \"home_club_formation\", \"away_club_formation\", \"agent_name\"]"
   ]
  },
  {
   "cell_type": "code",
   "execution_count": 305,
   "id": "7d845b16-540f-45fb-9286-bbbb5b6f3e75",
   "metadata": {},
   "outputs": [],
   "source": [
    "football_df = football_df.drop(columns_with_high_null, axis = 1)"
   ]
  },
  {
   "cell_type": "code",
   "execution_count": null,
   "id": "45cf1e5a-85b5-4ce7-be45-937ec0424447",
   "metadata": {},
   "outputs": [],
   "source": []
  },
  {
   "cell_type": "code",
   "execution_count": 307,
   "id": "28c77086-2623-43c3-9ab9-a335a6d2e746",
   "metadata": {},
   "outputs": [],
   "source": [
    "# Treat the left null value columns"
   ]
  },
  {
   "cell_type": "code",
   "execution_count": 309,
   "id": "66e2218b-e1ff-4781-b85e-19cbee3ff3e8",
   "metadata": {},
   "outputs": [],
   "source": [
    "numerical_null_column = [\"player_in_id\", \"attendance\", \"away_club_position\", \"home_club_position\", \"market_value_in_eur\"]"
   ]
  },
  {
   "cell_type": "code",
   "execution_count": 311,
   "id": "33c45d61-1956-43da-8680-7a0dcfb5360d",
   "metadata": {},
   "outputs": [],
   "source": [
    "object_null_column = [\"away_club_name\", \"home_club_name\", \"referee\"]"
   ]
  },
  {
   "cell_type": "code",
   "execution_count": 313,
   "id": "269c746e-1a98-403f-a9a2-f7d1c8f0fe76",
   "metadata": {},
   "outputs": [],
   "source": [
    "date_null_column = [\"contract_expiration_date\"]"
   ]
  },
  {
   "cell_type": "code",
   "execution_count": 315,
   "id": "a1139a45-592d-48fb-b81e-3c4fffc1c22b",
   "metadata": {},
   "outputs": [],
   "source": [
    "# Impute the numerical columns"
   ]
  },
  {
   "cell_type": "code",
   "execution_count": 317,
   "id": "56a3fef2-a288-40f5-b21d-ea353aec3944",
   "metadata": {},
   "outputs": [],
   "source": [
    "for col in numerical_null_column:\n",
    "    football_df[col] = football_df[col].interpolate()"
   ]
  },
  {
   "cell_type": "code",
   "execution_count": 319,
   "id": "addb2c32-5be9-4b88-9ca8-cf07718485a5",
   "metadata": {},
   "outputs": [],
   "source": [
    "# Imputed the numerical null columns with interpolate\n",
    "# linear interpolation would fill the NaN with value the midpoint\n",
    "# Example 15 and 20 means 15 + 20 / 2. That is 17.5"
   ]
  },
  {
   "cell_type": "code",
   "execution_count": 321,
   "id": "b8dd637b-e4c9-4974-975f-6e495d6caa38",
   "metadata": {},
   "outputs": [],
   "source": [
    "# Impute the object datatype column"
   ]
  },
  {
   "cell_type": "code",
   "execution_count": 323,
   "id": "8e49b909-c859-48c1-b2ae-2e6073f1924a",
   "metadata": {},
   "outputs": [],
   "source": [
    "for col in object_null_column:\n",
    "    football_df[col] = football_df[col].fillna(football_df[col].mode()[0])"
   ]
  },
  {
   "cell_type": "code",
   "execution_count": 325,
   "id": "88c460ab-2e8c-425e-ba25-3dcea775d990",
   "metadata": {},
   "outputs": [],
   "source": [
    "# Imputed the object null columns with mode value of their respective column."
   ]
  },
  {
   "cell_type": "code",
   "execution_count": 327,
   "id": "6b4140f8-62e7-4749-a6b3-aacea1707fbb",
   "metadata": {},
   "outputs": [],
   "source": [
    "# Impute the date column"
   ]
  },
  {
   "cell_type": "code",
   "execution_count": 329,
   "id": "7acd3e17-d330-4e59-8430-40caddc10864",
   "metadata": {},
   "outputs": [],
   "source": [
    "for col in date_null_column:\n",
    "    football_df[col] = football_df[col].fillna(football_df[col].mode()[0])"
   ]
  },
  {
   "cell_type": "code",
   "execution_count": 331,
   "id": "9cafdfc3-dca2-4de8-aa82-98fd7977e8b9",
   "metadata": {},
   "outputs": [],
   "source": [
    "# Imputed the date null columns with mode value of their respective column."
   ]
  },
  {
   "cell_type": "code",
   "execution_count": 333,
   "id": "f3d6afc3-68b0-4033-80e1-c4c67a659a9e",
   "metadata": {},
   "outputs": [],
   "source": [
    "# Again checking after the imputation."
   ]
  },
  {
   "cell_type": "code",
   "execution_count": 335,
   "id": "624e874b-5546-40a7-98d8-64599c8ceeaa",
   "metadata": {},
   "outputs": [
    {
     "data": {
      "text/plain": [
       "appearance_id                  0\n",
       "game_id                        0\n",
       "player_id                      0\n",
       "player_name                    0\n",
       "competition_id                 0\n",
       "yellow_cards                   0\n",
       "red_cards                      0\n",
       "goals                          0\n",
       "assists                        0\n",
       "minutes_played                 0\n",
       "season                         0\n",
       "round                          0\n",
       "home_club_goals                0\n",
       "away_club_goals                0\n",
       "home_club_position             0\n",
       "away_club_position             0\n",
       "home_club_manager_name         0\n",
       "away_club_manager_name         0\n",
       "stadium                        0\n",
       "attendance                     0\n",
       "referee                        0\n",
       "home_club_name                 0\n",
       "away_club_name                 0\n",
       "aggregate                      0\n",
       "competition_type               0\n",
       "game_event_id                  0\n",
       "date                           0\n",
       "minute                         0\n",
       "type_x                         0\n",
       "player_in_id                   0\n",
       "name                           0\n",
       "last_season                    0\n",
       "current_club_id                0\n",
       "player_code                    0\n",
       "country_of_birth               0\n",
       "date_of_birth                  0\n",
       "sub_position                   0\n",
       "position_x                     0\n",
       "foot                           0\n",
       "height_in_cm                   0\n",
       "market_value_in_eur            0\n",
       "highest_market_value_in_eur    0\n",
       "contract_expiration_date       0\n",
       "game_lineups_id                0\n",
       "type_y                         0\n",
       "number                         0\n",
       "team_captain                   0\n",
       "position_y                     0\n",
       "dtype: int64"
      ]
     },
     "execution_count": 335,
     "metadata": {},
     "output_type": "execute_result"
    }
   ],
   "source": [
    "football_df.isnull().sum()"
   ]
  },
  {
   "cell_type": "code",
   "execution_count": 337,
   "id": "607209ce-ca58-4771-9bd4-5932aaa2992a",
   "metadata": {},
   "outputs": [],
   "source": [
    "football_df = football_df.dropna()"
   ]
  },
  {
   "cell_type": "code",
   "execution_count": 339,
   "id": "a0662c21-be31-46d5-a88d-e1b47a1b26d3",
   "metadata": {},
   "outputs": [
    {
     "data": {
      "text/plain": [
       "appearance_id                  0\n",
       "game_id                        0\n",
       "player_id                      0\n",
       "player_name                    0\n",
       "competition_id                 0\n",
       "yellow_cards                   0\n",
       "red_cards                      0\n",
       "goals                          0\n",
       "assists                        0\n",
       "minutes_played                 0\n",
       "season                         0\n",
       "round                          0\n",
       "home_club_goals                0\n",
       "away_club_goals                0\n",
       "home_club_position             0\n",
       "away_club_position             0\n",
       "home_club_manager_name         0\n",
       "away_club_manager_name         0\n",
       "stadium                        0\n",
       "attendance                     0\n",
       "referee                        0\n",
       "home_club_name                 0\n",
       "away_club_name                 0\n",
       "aggregate                      0\n",
       "competition_type               0\n",
       "game_event_id                  0\n",
       "date                           0\n",
       "minute                         0\n",
       "type_x                         0\n",
       "player_in_id                   0\n",
       "name                           0\n",
       "last_season                    0\n",
       "current_club_id                0\n",
       "player_code                    0\n",
       "country_of_birth               0\n",
       "date_of_birth                  0\n",
       "sub_position                   0\n",
       "position_x                     0\n",
       "foot                           0\n",
       "height_in_cm                   0\n",
       "market_value_in_eur            0\n",
       "highest_market_value_in_eur    0\n",
       "contract_expiration_date       0\n",
       "game_lineups_id                0\n",
       "type_y                         0\n",
       "number                         0\n",
       "team_captain                   0\n",
       "position_y                     0\n",
       "dtype: int64"
      ]
     },
     "execution_count": 339,
     "metadata": {},
     "output_type": "execute_result"
    }
   ],
   "source": [
    "football_df.isnull().sum()"
   ]
  },
  {
   "cell_type": "code",
   "execution_count": 341,
   "id": "187c5a1d-bcf1-4fbd-9993-2ba747167d64",
   "metadata": {},
   "outputs": [],
   "source": [
    "# No null values are present."
   ]
  },
  {
   "cell_type": "code",
   "execution_count": null,
   "id": "f16c8e5c-d665-46fe-97f4-4f98de159128",
   "metadata": {},
   "outputs": [],
   "source": []
  },
  {
   "cell_type": "code",
   "execution_count": 343,
   "id": "7d2065ec-d127-4ccf-8700-fd2c371e2570",
   "metadata": {},
   "outputs": [],
   "source": [
    "# Removed all the trailing and leadind space in text column."
   ]
  },
  {
   "cell_type": "code",
   "execution_count": 345,
   "id": "517c94e8-640c-4409-ae2f-4a4796ccfa44",
   "metadata": {},
   "outputs": [],
   "source": [
    "categorical_column = football_df.select_dtypes(include = [\"object\", \"category\"])"
   ]
  },
  {
   "cell_type": "code",
   "execution_count": 347,
   "id": "48e7a8e2-31ce-4a2b-b689-11243e5fb5cc",
   "metadata": {},
   "outputs": [],
   "source": [
    "for col in categorical_column:\n",
    "    football_df[col] = football_df[col].astype(\"str\").str.strip()"
   ]
  },
  {
   "cell_type": "code",
   "execution_count": 349,
   "id": "1c783e6e-d404-4932-a2e1-8f6ef81935b6",
   "metadata": {},
   "outputs": [],
   "source": [
    "# Example Bremer Bruker as the leading space in referee \n",
    "# so using for loop checked all the text column and removed the leading and trailing space."
   ]
  },
  {
   "cell_type": "code",
   "execution_count": null,
   "id": "43af3632-3b2d-4641-b017-fd4f5f628b05",
   "metadata": {},
   "outputs": [],
   "source": []
  },
  {
   "cell_type": "code",
   "execution_count": 351,
   "id": "5390d530-04aa-43b6-8f9e-fb19acb7daf7",
   "metadata": {},
   "outputs": [],
   "source": [
    "# Creating the cleaned data as the new csv file. "
   ]
  },
  {
   "cell_type": "code",
   "execution_count": 355,
   "id": "069c5488-7401-49ac-9304-03948c5a24b1",
   "metadata": {},
   "outputs": [],
   "source": [
    "football_df.to_csv(\"Football_data_merged_cleaned.csv\", index = False)"
   ]
  },
  {
   "cell_type": "code",
   "execution_count": null,
   "id": "dfd14a4c-56b9-4c2d-ac41-34e5d5493de0",
   "metadata": {},
   "outputs": [],
   "source": []
  },
  {
   "cell_type": "code",
   "execution_count": 353,
   "id": "3d6b98b0-86cb-4ba2-b460-cdd203aebf04",
   "metadata": {},
   "outputs": [],
   "source": [
    "# Data dictionary for the new cleaned data file."
   ]
  },
  {
   "cell_type": "raw",
   "id": "5a9c8028-db9f-45c2-aca9-17cb64e5a06e",
   "metadata": {},
   "source": [
    "| Column Name                     | Description                                                                 |\n",
    "|--------------------------------|-----------------------------------------------------------------------------|\n",
    "| appearance_id                  | Unique identifier for each player's appearance in a match                  |\n",
    "| game_id                        | Unique identifier for each match                                           |\n",
    "| player_id                      | Unique identifier for each player                                          |\n",
    "| date                           | Date of the match or event                                                 |\n",
    "| player_name                    | Full name of the player                                                    |\n",
    "| competition_id                 | Unique identifier for the competition                                      |\n",
    "| yellow_cards                   | Number of yellow cards received by the player in the match                 |\n",
    "| red_cards                      | Number of red cards received by the player in the match                    |\n",
    "| goals                          | Number of goals scored by the player                                       |\n",
    "| assists                        | Number of assists by the player                                            |\n",
    "| minutes_played                 | Total minutes played by the player in the match                            |\n",
    "| season                         | Season in which the match occurred (e.g., 2021/2022)                       |\n",
    "| round                          | Match round or week number in the season                                   |\n",
    "| home_club_goals                | Goals scored by the home team                                              |\n",
    "| away_club_goals                | Goals scored by the away team                                              |\n",
    "| home_club_position             | League position of the home team at the time of the match                  |\n",
    "| away_club_position             | League position of the away team at the time of the match                  |\n",
    "| home_club_manager_name         | Name of the home team’s manager                                            |\n",
    "| away_club_manager_name         | Name of the away team’s manager                                            |\n",
    "| stadium                        | Name of the stadium where the match was played                             |\n",
    "| attendance                     | Number of spectators at the match                                          |\n",
    "| referee                        | Name of the match referee                                                  |\n",
    "| home_club_name                 | Name of the home club                                                      |\n",
    "| away_club_name                 | Name of the away club                                                      |\n",
    "| aggregate                      | Aggregate score across two legs (if applicable, e.g., in knockout rounds)  |\n",
    "| competition_type               | Type of competition (e.g., league, cup, international)                     |\n",
    "| game_event_id                  | Unique identifier for an in-game event                                     |\n",
    "| minute                         | Minute when an event occurred                                              |\n",
    "| type_x                         | Type of event (e.g., substitution, goal, card)                             |\n",
    "| player_in_id                   | Player ID of the incoming (substitute) player                              |\n",
    "| name                           | Name of the event or substituted player                                    |\n",
    "| last_season                    | Player's club in the previous season                                       |\n",
    "| current_club_id                | ID of the player’s current club                                            |\n",
    "| player_code                    | URL-friendly code/slug for player                                          |\n",
    "| country_of_birth               | Player’s country of birth                                                  |\n",
    "| date_of_birth                  | Player’s date of birth                                                     |\n",
    "| sub_position                   | Player’s specific playing position (e.g., Left Winger, Center Back)        |\n",
    "| position_x                     | General position (e.g., Defender, Midfielder, Forward)                     |\n",
    "| foot                           | Dominant foot (e.g., Left, Right)                                          |\n",
    "| height_in_cm                   | Player’s height in centimeters                                             |\n",
    "| market_value_in_eur            | Current estimated market value in Euros                                    |\n",
    "| highest_market_value_in_eur    | Highest historical market value in Euros                                   |\n",
    "| contract_expiration_date       | Date when the player’s current contract expires                            |\n",
    "| game_lineups_id                | Unique identifier for a player’s place in a game lineup                    |\n",
    "| type_y                         | Type of lineup information (e.g., starter, substitute)                    |\n",
    "| number                         | Player’s jersey number                                                     |\n",
    "| team_captain                   | Boolean (True/False) indicating if the player was the team captain         |\n",
    "| position_y                     | Position in lineup context (might duplicate or clarify position_x)         |\n"
   ]
  },
  {
   "cell_type": "code",
   "execution_count": null,
   "id": "41664eca-1347-4257-bbca-fa5226b580ea",
   "metadata": {},
   "outputs": [],
   "source": []
  },
  {
   "cell_type": "code",
   "execution_count": null,
   "id": "12a95495-6f60-4d2a-adbe-dbf4662bc036",
   "metadata": {},
   "outputs": [],
   "source": []
  },
  {
   "cell_type": "code",
   "execution_count": null,
   "id": "1c4961ce-a6a5-4a7a-8dee-ce77a0e1c05d",
   "metadata": {},
   "outputs": [],
   "source": []
  }
 ],
 "metadata": {
  "kernelspec": {
   "display_name": "Python 3 (ipykernel)",
   "language": "python",
   "name": "python3"
  },
  "language_info": {
   "codemirror_mode": {
    "name": "ipython",
    "version": 3
   },
   "file_extension": ".py",
   "mimetype": "text/x-python",
   "name": "python",
   "nbconvert_exporter": "python",
   "pygments_lexer": "ipython3",
   "version": "3.12.7"
  }
 },
 "nbformat": 4,
 "nbformat_minor": 5
}
